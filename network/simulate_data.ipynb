{
 "cells": [
  {
   "attachments": {},
   "cell_type": "markdown",
   "metadata": {},
   "source": [
    "## Generation of synthetic data\n",
    "\n",
    "This scripts generates parameter vectors, and simulates a training and test set with the VERDICT modelling. Simulations is done with the dmipy modelling framework [1].\n",
    "\n",
    "[1] Rutger Fick, Rachid Deriche, & Demian Wassermann. (2019, October 15). The Dmipy Toolbox: Diffusion MRI Multi-Compartment Modeling and Microstructure Recovery Made Easy (Version 1.0). Zenodo. http://doi.org/10.5281/zenodo.3490325\n"
   ]
  },
  {
   "attachments": {},
   "cell_type": "markdown",
   "metadata": {},
   "source": [
    "## Loading the VERDICT MODEL \n",
    "\n",
    "\\begin{equation}\n",
    " E_{\\textrm{VERDICT}}= \\underbrace{f_{\\textrm{Tumor}}\\overbrace{E(D|\\lambda_{\\textrm{intra}})}^{\\textrm{Sphere}}}_{\\textrm{Tumor Cells}} + \\underbrace{f_{\\textrm{extra}}\\overbrace{E(\\cdot|\\lambda_{iso})}^{\\textrm{Ball}}}_{\\textrm{Hindered Extra-Cellular}}+\\underbrace{f_{blood}\\overbrace{E(\\lambda_\\parallel, \\boldsymbol{\\mu})}^{\\textrm{Stick}}}_{\\textrm{Vascular}}\n",
    "\\end{equation}"
   ]
  },
  {
   "cell_type": "code",
   "execution_count": 247,
   "metadata": {},
   "outputs": [],
   "source": [
    "from dmipy.signal_models import sphere_models, cylinder_models, gaussian_models\n",
    "from dmipy.core.modeling_framework import MultiCompartmentModel\n",
    "import numpy as np\n",
    "\n",
    "sphere = sphere_models.S4SphereGaussianPhaseApproximation(diffusion_constant=1.2e-9)\n",
    "ball = gaussian_models.G1Ball()\n",
    "stick = cylinder_models.C1Stick()\n",
    "\n",
    "verdict_mod = MultiCompartmentModel(models=[sphere, ball, stick])\n",
    "\n",
    "verdict_mod.set_fixed_parameter('G1Ball_1_lambda_iso', 2e-9) #2\n",
    "verdict_mod.set_fixed_parameter('C1Stick_1_lambda_par',8e-9)\n",
    "verdict_mod.set_fixed_parameter('C1Stick_1_mu',[1.570796326794897,0])\n"
   ]
  },
  {
   "attachments": {},
   "cell_type": "markdown",
   "metadata": {},
   "source": [
    "## Loading acquisition scheme"
   ]
  },
  {
   "cell_type": "code",
   "execution_count": 248,
   "metadata": {},
   "outputs": [],
   "source": [
    "from dmipy.core.acquisition_scheme import acquisition_scheme_from_schemefile\n",
    "from os.path import join\n",
    "\n",
    "acquisition_path = \"/Users/theavage/Documents/Master/Master-Project/data/145.scheme\"\n",
    "\n",
    "scheme= acquisition_scheme_from_schemefile(acquisition_path)"
   ]
  },
  {
   "cell_type": "markdown",
   "metadata": {},
   "source": [
    "## Creating parameter arrays\n",
    "\n",
    "With random values of R and the IC,EES and VASC volume fractions"
   ]
  },
  {
   "cell_type": "code",
   "execution_count": 250,
   "metadata": {},
   "outputs": [],
   "source": [
    "def all_comb(ic,ec,vasc,radi):\n",
    "    \"\"\"\n",
    "    Finds all combinations of volume fractions and radius ranges,\n",
    "    with volume fractions summing to one. \n",
    "    \"\"\"\n",
    "\n",
    "    comb= []\n",
    "\n",
    "    for i in ic:\n",
    "        for j in ec:\n",
    "            for k in vasc:\n",
    "                if i+j+k == 1:\n",
    "                    for r in radi:\n",
    "                        for l in range(10):\n",
    "                            comb.append([r,i,j,k])\n",
    "    return comb\n",
    "\n",
    "#Creating parameter ranges\n",
    "ranges = np.arange(0.1,1.1,0.1)\n",
    "ic = ranges; ec = ranges; vasc = ranges\n",
    "radi = np.arange(2e-6,15e-6,0.5e-6)*2\n",
    "\n",
    "#Creating parameter vector\n",
    "all_combinations = all_comb(ic,ec,vasc,radi)\n",
    "parameter_vector = np.array(all_combinations)"
   ]
  },
  {
   "attachments": {},
   "cell_type": "markdown",
   "metadata": {},
   "source": [
    "## Simulating new data from simulated parameter vector"
   ]
  },
  {
   "cell_type": "code",
   "execution_count": 7,
   "metadata": {},
   "outputs": [],
   "source": [
    "simulated_signal = verdict_mod.simulate_signal(scheme,parameter_vector)\n",
    "np.save('simulated_9180_160.npy',simulated_signal)"
   ]
  },
  {
   "attachments": {},
   "cell_type": "markdown",
   "metadata": {},
   "source": [
    "## Visualization of simulated data"
   ]
  },
  {
   "cell_type": "code",
   "execution_count": 15,
   "metadata": {},
   "outputs": [
    {
     "data": {
      "text/plain": [
       "<matplotlib.colorbar.Colorbar at 0x7f4589f79040>"
      ]
     },
     "execution_count": 15,
     "metadata": {},
     "output_type": "execute_result"
    },
    {
     "data": {
      "image/png": "[encoded data removed]",
      "text/plain": [
       "<Figure size 480x480 with 2 Axes>"
      ]
     },
     "metadata": {},
     "output_type": "display_data"
    }
   ],
   "source": [
    "from matplotlib import pyplot as plt\n",
    "\n",
    "plt.figure(figsize=(6,6),dpi=80)\n",
    "plt.imshow(simulated_signal[:95*95].reshape(95,95,160)[:,:,6])\n",
    "plt.colorbar()\n"
   ]
  },
  {
   "attachments": {},
   "cell_type": "markdown",
   "metadata": {},
   "source": [
    "## Simulating test data"
   ]
  },
  {
   "cell_type": "code",
   "execution_count": 243,
   "metadata": {},
   "outputs": [],
   "source": [
    "# define parameter values in the three regions\n",
    "r_region0, r_region1, r_region2 = 10e-6, 20e-6, 30e-6\n",
    "f_sphere_region0, f_sphere_region1, f_sphere_region2 = 0.2, 0.4, 0.8\n",
    "f_ball_region0, f_ball_region1, f_ball_region2 = 0.6, 0.2, 0.1\n",
    "f_stick_region0, f_stick_region1, f_stick_region2 = 0.2, 0.4, 0.1\n",
    "\n",
    "# image size\n",
    "sx, sy, sb = 50, 50, len(scheme.bvalues)\n",
    "# create image\n",
    "dwi_image = np.zeros((sx, sy, sb))\n",
    "r_truth = np.zeros((sx, sy))\n",
    "f_sphere_truth = np.zeros((sx, sy))\n",
    "f_ball_truth = np.zeros((sx, sy))\n",
    "f_stick_truth = np.zeros((sx, sy))\n",
    "\n",
    "# fill image with simulated values\n",
    "for i in range(sx):\n",
    "    for j in range(sy):\n",
    "        if (20 < i < 30) and (20 < j < 30):\n",
    "            dwi_image[i, j, :] = verdict_mod.simulate_signal(scheme, np.array([r_region0,f_sphere_region0,f_ball_region0,f_stick_region0]))\n",
    "            r_truth[i, j], f_sphere_truth[i, j], f_ball_truth[i, j], f_stick_truth[i, j] = r_region0, f_sphere_region0, f_ball_region0, f_stick_region0\n",
    "        elif (10 < i < 40) and (10 < j < 40):\n",
    "            dwi_image[i, j, :] = verdict_mod.simulate_signal(scheme, np.array([r_region1,f_sphere_region1,f_ball_region1,f_stick_region1]))\n",
    "            r_truth[i, j], f_sphere_truth[i, j], f_ball_truth[i, j], f_stick_truth[i, j] = r_region1, f_sphere_region1, f_ball_region1, f_stick_region1\n",
    "        else:\n",
    "            dwi_image[i, j, :] =verdict_mod.simulate_signal(scheme, np.array([r_region2,f_sphere_region2,f_ball_region2,f_stick_region2]))\n",
    "            r_truth[i, j], f_sphere_truth[i, j], f_ball_truth[i, j], f_stick_truth[i, j] = r_region2, f_sphere_region2, f_ball_region2, f_stick_region2\n"
   ]
  },
  {
   "cell_type": "code",
   "execution_count": null,
   "metadata": {},
   "outputs": [],
   "source": [
    "np.save('simulated_2500.npy',dwi_image)"
   ]
  }
 ],
 "metadata": {
  "kernelspec": {
   "display_name": "base",
   "language": "python",
   "name": "python3"
  },
  "language_info": {
   "codemirror_mode": {
    "name": "ipython",
    "version": 3
   },
   "file_extension": ".py",
   "mimetype": "text/x-python",
   "name": "python",
   "nbconvert_exporter": "python",
   "pygments_lexer": "ipython3",
   "version": "3.9.12"
  },
  "orig_nbformat": 4,
  "vscode": {
   "interpreter": {
    "hash": "d4a094260e570e59b280a31b8853f889e1bc2e556f9cb423fc207bebb7a02112"
   }
  }
 },
 "nbformat": 4,
 "nbformat_minor": 2
}
