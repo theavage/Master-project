{
 "cells": [
  {
   "cell_type": "code",
   "execution_count": null,
   "metadata": {},
   "outputs": [],
   "source": [
    "import seaborn as sns\n",
    "\n",
    "import numpy as np\n",
    "import matplotlib.pyplot as plt\n",
    "\n",
    "plt.style.use('seaborn-white')\n",
    "plt.rcParams[\"figure.dpi\"] = 300\n",
    "\n",
    "kwargs = dict(histtype='stepfilled', alpha=0.3, density=True, bins=200, ec=\"k\")\n",
    "\n",
    "plt.hist(rice.rvs(0.01,size = 1000000),label='SNR=0.01', **kwargs)\n",
    "plt.hist(rice.rvs(1.5,size = 1000000), **kwargs,label='SNR=1.5')\n",
    "plt.hist(rice.rvs(3,size = 1000000), **kwargs,label='SNR=3')\n",
    "plt.hist(rice.rvs(6,size = 1000000), **kwargs,label='SNR=6')\n",
    "plt.legend(['SNR=0.01','SNR=1.5','SNR=3','SNR=6'])\n",
    "\n",
    "plt.xlabel('x')\n",
    "plt.ylabel('Density')\n",
    "\n",
    "plt.show()\n",
    "\n"
   ]
  },
  {
   "cell_type": "code",
   "execution_count": null,
   "metadata": {},
   "outputs": [],
   "source": [
    "def rician_noise(signal,bvalues,TE=80):\n",
    "\n",
    "    scale = 5e-8*np.sqrt(bvalues)*(TE/30)**2\n",
    "\n",
    "    rician_noise = rice.rvs(0.8,scale=scale,size = signal.shape)\n",
    "    print(rician_noise.shape)\n",
    "    rician_image = signal*(1-rician_noise)\n",
    "\n",
    "    return rician_noise, rician_image\n",
    "\n"
   ]
  },
  {
   "cell_type": "code",
   "execution_count": null,
   "metadata": {},
   "outputs": [],
   "source": [
    "_,noisy_signal= rician_noise(simulated_signal,bvalues=scheme.bvalues)\n"
   ]
  },
  {
   "cell_type": "code",
   "execution_count": null,
   "metadata": {},
   "outputs": [],
   "source": [
    "import dipy\n",
    "import matplotlib.pyplot as plt\n",
    "import matplotlib.patches as patches\n",
    "real_image = dipy.data.fetcher.load_nifti_data(join(acquisition_path_GS55,\"GS55_all.nii.gz\"))\n",
    "noise, noisy_real_img = rician_noise(real_image[:,:,:,0],200,3000)\n",
    "\n",
    "fig, ax = plt.subplots(2,2,constrained_layout=True,figsize=(7,7))\n",
    "fig.suptitle('Rician noise voxel distribution',fontsize=20)\n",
    "\n",
    "ax=ax.flat\n",
    "image = ax[0].imshow(real_image[:, :, 15, 0])\n",
    "rect = patches.Rectangle((155,125),10,10,linewidth=1,edgecolor='r',facecolor='none')\n",
    "ax[0].add_patch(rect)\n",
    "ax[0].set_axis_off()\n",
    "ax[0].set_title('(a) In Vivo MRI ')\n",
    "\n",
    "image = ax[1].imshow(noisy_real_img[:, :, 15])\n",
    "rect = patches.Rectangle((155,125),10,10,linewidth=1,edgecolor='r',facecolor='none')\n",
    "ax[1].add_patch(rect)\n",
    "ax[1].set_axis_off()\n",
    "ax[1].set_title('(b) In Vivo MRI with Rician noise')\n",
    "\n",
    "\n",
    "ax[2].hist(real_image[155:165,125:135,12,0].flatten(), density=True, histtype='stepfilled', alpha=0.2)\n",
    "ax[2].set_title('(c) Voxel distribution in air for MRI')\n",
    "ax[2].set_xlim([1000,4000])\n",
    "ax[2].set_xlabel('Voxel intensity')\n",
    "ax[2].set_ylabel('Density')\n",
    "\n",
    "\n",
    "ax[3].hist(noisy_real_img[155:165,125:135,0].flatten(), density=True, histtype='stepfilled', alpha=0.2)\n",
    "ax[3].set_title('(d) Voxel distribution in air for MRI with Rician noise')\n",
    "ax[3].set_xlabel('Voxel intensity')\n",
    "ax[3].set_ylabel('Density')\n",
    "\n"
   ]
  }
 ],
 "metadata": {
  "kernelspec": {
   "display_name": "Python 3",
   "language": "python",
   "name": "python3"
  },
  "language_info": {
   "name": "python",
   "version": "3.8.10 (default, Nov 14 2022, 12:59:47) \n[GCC 9.4.0]"
  },
  "orig_nbformat": 4,
  "vscode": {
   "interpreter": {
    "hash": "916dbcbb3f70747c44a77c7bcd40155683ae19c65e1c03b4aa3499c5328201f1"
   }
  }
 },
 "nbformat": 4,
 "nbformat_minor": 2
}
