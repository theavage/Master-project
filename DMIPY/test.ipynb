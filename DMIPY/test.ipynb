{
 "cells": [
  {
   "cell_type": "code",
   "execution_count": 1,
   "metadata": {},
   "outputs": [
    {
     "data": {
      "text/plain": [
       "OrderedDict([('S4SphereGaussianPhaseApproximation_1_diameter', 1),\n",
       "             ('C1Stick_1_mu', 2),\n",
       "             ('C1Stick_1_lambda_par', 1),\n",
       "             ('partial_volume_0', 1),\n",
       "             ('partial_volume_1', 1),\n",
       "             ('partial_volume_2', 1)])"
      ]
     },
     "execution_count": 1,
     "metadata": {},
     "output_type": "execute_result"
    }
   ],
   "source": [
    "from dmipy.signal_models import sphere_models, cylinder_models, gaussian_models\n",
    "from dmipy.core.modeling_framework import MultiCompartmentModel, MultiCompartmentSphericalHarmonicsModel\n",
    "import numpy as np\n",
    "from scipy.stats import rice\n",
    "import matplotlib as mpl\n",
    "import matplotlib.gridspec as gridspec\n",
    "\n",
    "\n",
    "sphere = sphere_models.S4SphereGaussianPhaseApproximation(diffusion_constant=1.2e-9)\n",
    "ball = gaussian_models.G1Ball()\n",
    "stick = cylinder_models.C1Stick()\n",
    "\n",
    "verdict_mod = MultiCompartmentModel(models=[sphere, ball, stick])\n",
    "\n",
    "verdict_mod.set_fixed_parameter('G1Ball_1_lambda_iso', 2e-9) #2\n",
    "verdict_mod.set_parameter_optimization_bounds('C1Stick_1_lambda_par', [3.05e-9, 10e-9])\n",
    "verdict_mod.parameter_names\n",
    "verdict_mod.parameter_cardinality"
   ]
  },
  {
   "cell_type": "code",
   "execution_count": 2,
   "metadata": {},
   "outputs": [],
   "source": [
    "from dmipy.core.acquisition_scheme import acquisition_scheme_from_schemefile\n",
    "from os.path import join\n",
    "\n",
    "acquisition_path_GS55 = \"/Users/theavage/Documents/Master/Data/GS55 - long acquisition\"\n",
    "\n",
    "scheme= acquisition_scheme_from_schemefile(\"new.scheme\")"
   ]
  },
  {
   "cell_type": "code",
   "execution_count": 3,
   "metadata": {},
   "outputs": [],
   "source": [
    "def all_comb(ic,ec,vasc,radi):\n",
    "\n",
    "    comb= []\n",
    "\n",
    "    for i in ic:\n",
    "        for j in ec:\n",
    "            for k in vasc:\n",
    "                if i+j+k == 1:\n",
    "                    for r in radi:\n",
    "                        comb.append([r,2,1,3.05000000e-09,i,j,k])\n",
    "    return comb"
   ]
  },
  {
   "cell_type": "code",
   "execution_count": 4,
   "metadata": {},
   "outputs": [],
   "source": [
    "def fill(comb_arr,pixels):\n",
    "\n",
    "    for i in range(pixels):\n",
    "        comb_arr.append([np.random.uniform(0.001e-6,0.002e-6),2, 1, 3.05e-09,0.33,0.33,0.33])\n",
    "    \n",
    "    return comb_arr"
   ]
  },
  {
   "cell_type": "code",
   "execution_count": 5,
   "metadata": {},
   "outputs": [],
   "source": [
    "#Creating parameter vector\n",
    "\n",
    "ranges = np.arange(0.1,1.1,0.1)\n",
    "ic = ranges; ec = ranges; vasc = ranges\n",
    "radi = np.arange(0.02e-6,30e-6,1e-6)\n",
    "\n",
    "all_combinations = all_comb(ic,ec,vasc,radi)\n",
    "\n",
    "final = fill(all_combinations,4)\n",
    "\n",
    "parameter_vector = np.array(final).reshape(32,32,7)"
   ]
  },
  {
   "cell_type": "code",
   "execution_count": 6,
   "metadata": {},
   "outputs": [
    {
     "name": "stderr",
     "output_type": "stream",
     "text": [
      "/Users/theavage/opt/anaconda3/lib/python3.9/site-packages/dmipy/signal_models/sphere_models.py:317: RuntimeWarning: overflow encountered in exp\n",
      "  np.exp(-alpha2D * (Delta - delta)) -\n",
      "/Users/theavage/opt/anaconda3/lib/python3.9/site-packages/dmipy/signal_models/sphere_models.py:317: RuntimeWarning: overflow encountered in exp\n",
      "  np.exp(-alpha2D * (Delta - delta)) -\n",
      "/Users/theavage/opt/anaconda3/lib/python3.9/site-packages/dmipy/signal_models/sphere_models.py:324: RuntimeWarning: overflow encountered in exp\n",
      "  E = np.exp(\n"
     ]
    }
   ],
   "source": [
    "simulated_signal = verdict_mod.simulate_signal(scheme,parameter_vector)\n"
   ]
  },
  {
   "cell_type": "code",
   "execution_count": 22,
   "metadata": {},
   "outputs": [
    {
     "data": {
      "image/png": "[encoded data removed]",
      "text/plain": [
       "<Figure size 288x288 with 2 Axes>"
      ]
     },
     "metadata": {
      "needs_background": "light"
     },
     "output_type": "display_data"
    }
   ],
   "source": [
    "import matplotlib.pyplot as plt\n",
    "#Visualization of simulated signal\n",
    "fig, ax = plt.subplots(1,figsize=(4,4))\n",
    "\n",
    "image = ax.imshow(simulated_signal[:,:,155000])\n",
    "title = ax.set_title('Simulated data',fontsize=15)\n",
    "cb = fig.colorbar(image,ax=ax)\n",
    "ax.get_xaxis().set_visible(False)\n",
    "ax.get_yaxis().set_visible(False)"
   ]
  },
  {
   "cell_type": "code",
   "execution_count": 23,
   "metadata": {},
   "outputs": [
    {
     "data": {
      "text/plain": [
       "array([[inf, inf, inf, ..., inf, inf, inf],\n",
       "       [inf, inf, inf, ..., inf, inf, inf],\n",
       "       [inf, inf, inf, ..., inf, inf, inf],\n",
       "       ...,\n",
       "       [inf, inf, inf, ..., inf, inf, inf],\n",
       "       [inf, inf, inf, ..., inf, inf, inf],\n",
       "       [inf, inf, inf, ..., inf, inf, inf]])"
      ]
     },
     "execution_count": 23,
     "metadata": {},
     "output_type": "execute_result"
    }
   ],
   "source": [
    "simulated_signal[:,:,50000]"
   ]
  }
 ],
 "metadata": {
  "kernelspec": {
   "display_name": "Python 3.9.12 ('base')",
   "language": "python",
   "name": "python3"
  },
  "language_info": {
   "codemirror_mode": {
    "name": "ipython",
    "version": 3
   },
   "file_extension": ".py",
   "mimetype": "text/x-python",
   "name": "python",
   "nbconvert_exporter": "python",
   "pygments_lexer": "ipython3",
   "version": "3.9.12"
  },
  "orig_nbformat": 4,
  "vscode": {
   "interpreter": {
    "hash": "d4a094260e570e59b280a31b8853f889e1bc2e556f9cb423fc207bebb7a02112"
   }
  }
 },
 "nbformat": 4,
 "nbformat_minor": 2
}
