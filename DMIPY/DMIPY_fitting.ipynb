{
 "cells": [
  {
   "cell_type": "code",
   "execution_count": 39,
   "metadata": {},
   "outputs": [
    {
     "name": "stdout",
     "output_type": "stream",
     "text": [
      "We highly recommend installing numba for faster function execution and model fitting.\n",
      "We highly recommend installing pathos to take advantage of multicore processing.\n",
      "We highly recommend installing numba for faster function execution and model fitting.\n",
      "We highly recommend installing pathos to take advantage of multicore processing.\n"
     ]
    }
   ],
   "source": [
    "from dmipy.signal_models import sphere_models, cylinder_models, gaussian_models\n",
    "from dmipy.core.modeling_framework import MultiCompartmentModel, MultiCompartmentSphericalHarmonicsModel\n",
    "from dmipy.core.modeling_framework import MultiCompartmentModel\n",
    "from dmipy.core.acquisition_scheme import acquisition_scheme_from_schemefile\n",
    "import numpy as np\n",
    "\n",
    "\n",
    "sphere = sphere_models.S4SphereGaussianPhaseApproximation(diffusion_constant=1.2e-9)\n",
    "ball = gaussian_models.G1Ball()\n",
    "stick = cylinder_models.C1Stick()\n",
    "\n",
    "verdict_mod = MultiCompartmentModel(models=[sphere, ball, stick])\n",
    "verdict_mod_SH = MultiCompartmentSphericalHarmonicsModel(models=[sphere,ball,stick])\n",
    "\n",
    "verdict_mod.set_fixed_parameter('G1Ball_1_lambda_iso', 2e-9) #2\n",
    "verdict_mod.set_fixed_parameter('C1Stick_1_lambda_par',8e-9)\n",
    "verdict_mod.set_fixed_parameter('C1Stick_1_mu',[1.570796326794897,0])\n",
    "\n",
    "scheme = acquisition_scheme_from_schemefile(\"/home/mmiv/Skrivebord/Master-project/data/3466.scheme\")\n",
    "signal = np.load(\"/home/mmiv/Skrivebord/Master-project/data/simulated_9180.npy\")\n"
   ]
  },
  {
   "cell_type": "code",
   "execution_count": 40,
   "metadata": {},
   "outputs": [
    {
     "data": {
      "text/plain": [
       "(9180, 3466)"
      ]
     },
     "execution_count": 40,
     "metadata": {},
     "output_type": "execute_result"
    }
   ],
   "source": [
    "signal.shape"
   ]
  },
  {
   "cell_type": "code",
   "execution_count": 41,
   "metadata": {},
   "outputs": [],
   "source": [
    "#GS55\n",
    "import dipy\n",
    "scheme = acquisition_scheme_from_schemefile(\"/home/mmiv/Nedlastinger/GS55_long_protocol2.scheme\")\n",
    "signal = dipy.data.fetcher.load_nifti_data(\"/home/mmiv/Nedlastinger/GS55_all.nii.gz\")\n"
   ]
  },
  {
   "cell_type": "code",
   "execution_count": 42,
   "metadata": {},
   "outputs": [
    {
     "name": "stdout",
     "output_type": "stream",
     "text": [
      "Setup MIX optimizer in 1.4781951904296875e-05 seconds\n"
     ]
    },
    {
     "name": "stderr",
     "output_type": "stream",
     "text": [
      "/home/mmiv/.local/lib/python3.8/site-packages/dmipy/core/modeling_framework.py:1217: RuntimeWarning: divide by zero encountered in true_divide\n",
      "  voxel_E = data_[pos] / S0[pos]\n"
     ]
    }
   ],
   "source": [
    "result = verdict_mod.fit(scheme,signal,solver='mix', use_parallel_processing=False)"
   ]
  },
  {
   "cell_type": "code",
   "execution_count": 31,
   "metadata": {},
   "outputs": [
    {
     "data": {
      "text/plain": [
       "{'S4SphereGaussianPhaseApproximation_1_diameter': array([9.49885397e-08]),\n",
       " 'partial_volume_0': array([0.05464763]),\n",
       " 'partial_volume_1': array([0.91825796]),\n",
       " 'partial_volume_2': array([0.02709441])}"
      ]
     },
     "execution_count": 31,
     "metadata": {},
     "output_type": "execute_result"
    }
   ],
   "source": [
    "result.fitted_parameters"
   ]
  }
 ],
 "metadata": {
  "kernelspec": {
   "display_name": "Python 3",
   "language": "python",
   "name": "python3"
  },
  "language_info": {
   "codemirror_mode": {
    "name": "ipython",
    "version": 3
   },
   "file_extension": ".py",
   "mimetype": "text/x-python",
   "name": "python",
   "nbconvert_exporter": "python",
   "pygments_lexer": "ipython3",
   "version": "3.8.10"
  },
  "orig_nbformat": 4,
  "vscode": {
   "interpreter": {
    "hash": "916dbcbb3f70747c44a77c7bcd40155683ae19c65e1c03b4aa3499c5328201f1"
   }
  }
 },
 "nbformat": 4,
 "nbformat_minor": 2
}
