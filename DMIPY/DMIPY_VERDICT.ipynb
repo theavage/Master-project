{
 "cells": [
  {
   "cell_type": "markdown",
   "metadata": {},
   "source": [
    "## DMIPY VERDICT fitting"
   ]
  },
  {
   "cell_type": "markdown",
   "metadata": {},
   "source": [
    "Firstly, I import all the compartments: sphere, ball and stick, and set up the model."
   ]
  },
  {
   "cell_type": "code",
   "execution_count": 2,
   "metadata": {
    "vscode": {
     "languageId": "shellscript"
    }
   },
   "outputs": [],
   "source": [
    "from dmipy.signal_models import sphere_models, cylinder_models, gaussian_models\n",
    "from dmipy.core.modeling_framework import MultiCompartmentModel, MultiCompartmentSphericalHarmonicsModel\n",
    "\n",
    "\n",
    "sphere = sphere_models.S4SphereGaussianPhaseApproximation(diffusion_constant=1.2e-9)\n",
    "ball = gaussian_models.G1Ball()\n",
    "stick = cylinder_models.C1Stick()\n",
    "\n",
    "from dmipy.core.modeling_framework import MultiCompartmentModel\n",
    "verdict_mod = MultiCompartmentModel(models=[sphere, ball, stick])\n",
    "verdict_mod_SH = MultiCompartmentSphericalHarmonicsModel(models=[sphere,ball,stick])"
   ]
  },
  {
   "cell_type": "markdown",
   "metadata": {},
   "source": [
    "C1 Stick 1 Lambda par has some optimization bounds, and the Ball diffusion is set to 2e-9. "
   ]
  },
  {
   "cell_type": "code",
   "execution_count": 3,
   "metadata": {
    "vscode": {
     "languageId": "shellscript"
    }
   },
   "outputs": [
    {
     "data": {
      "text/plain": [
       "OrderedDict([('S4SphereGaussianPhaseApproximation_1_diameter', 1),\n",
       "             ('C1Stick_1_mu', 2),\n",
       "             ('C1Stick_1_lambda_par', 1),\n",
       "             ('partial_volume_0', 1),\n",
       "             ('partial_volume_1', 1),\n",
       "             ('partial_volume_2', 1)])"
      ]
     },
     "execution_count": 3,
     "metadata": {},
     "output_type": "execute_result"
    }
   ],
   "source": [
    "verdict_mod.set_fixed_parameter('G1Ball_1_lambda_iso', 2e-9)\n",
    "verdict_mod.set_parameter_optimization_bounds('C1Stick_1_lambda_par', [3.05e-9, 10e-9])\n",
    "verdict_mod."
   ]
  },
  {
   "cell_type": "markdown",
   "metadata": {},
   "source": [
    "# Setting up an acquisition scheme"
   ]
  },
  {
   "cell_type": "code",
   "execution_count": 4,
   "metadata": {
    "vscode": {
     "languageId": "shellscript"
    }
   },
   "outputs": [
    {
     "name": "stdout",
     "output_type": "stream",
     "text": [
      "Acquisition scheme summary\n",
      "\n",
      "total number of measurements: 20\n",
      "number of b0 measurements: 5\n",
      "number of DWI shells: 5\n",
      "\n",
      "shell_index |# of DWIs |bvalue [s/mm^2] |gradient strength [mT/m] |delta [ms] |Delta[ms] |TE[ms]\n",
      "0           |1         |0               |0                        |4.715999999999999|23.484    |50.0 \n",
      "1           |3         |88              |50                       |4.715999999999999|23.484    |50.0 \n",
      "2           |1         |0               |0                        |12.212     |31.272000000000002|65.0 \n",
      "3           |3         |499             |41                       |12.212     |31.272000000000002|65.0 \n",
      "4           |1         |0               |0                        |16.448     |32.072    |73.4 \n",
      "5           |3         |2004            |62                       |16.448     |32.072    |73.4 \n",
      "6           |1         |0               |0                        |24.764000000000003|43.736    |90.1 \n",
      "7           |3         |3000            |43                       |24.764000000000003|43.736    |90.1 \n",
      "8           |1         |0               |0                        |25.772     |43.408    |92.1 \n",
      "9           |3         |1499            |30                       |25.772     |43.408    |92.1 \n"
     ]
    }
   ],
   "source": [
    "from dmipy.core.acquisition_scheme import acquisition_scheme_from_schemefile\n",
    "from os.path import join\n",
    "\n",
    "\n",
    "acquisition_path_GS55 = \"/Users/theavage/Documents/Master/Data/GS55 - long acquisition\"\n",
    "acquisition_path_GS35 = \"/Users/theavage/Documents/Master/Data/GS35\"\n",
    "GS55 = \"GS55_long_protocol_2.scheme\"\n",
    "GS35 = \"Verdict_brain_5shell_mag2.scheme\"\n",
    "\n",
    "scheme = acquisition_scheme_from_schemefile(join(acquisition_path_GS35, GS35))\n",
    "scheme.print_acquisition_info"
   ]
  },
  {
   "cell_type": "markdown",
   "metadata": {},
   "source": [
    "Now: Get the data"
   ]
  },
  {
   "cell_type": "code",
   "execution_count": 6,
   "metadata": {
    "vscode": {
     "languageId": "shellscript"
    }
   },
   "outputs": [],
   "source": [
    "import dipy\n",
    "data = dipy.data.fetcher.load_nifti_data(join(acquisition_path_GS55,\"GS55_all.nii.gz\"))\n",
    "mask = dipy.data.fetcher.load_nifti_data(join(acquisition_path_GS35,\"P35_mask.nii\"))"
   ]
  },
  {
   "cell_type": "markdown",
   "metadata": {},
   "source": [
    "Now, fit the model. "
   ]
  },
  {
   "cell_type": "code",
   "execution_count": 210,
   "metadata": {
    "vscode": {
     "languageId": "shellscript"
    }
   },
   "outputs": [
    {
     "name": "stdout",
     "output_type": "stream",
     "text": [
      "Setup MIX optimizer in 0.0016062259674072266 seconds\n",
      "Fitting of 1 voxels complete in 2.8153610229492188 seconds.\n",
      "Average of 2.8153610229492188 seconds per voxel.\n"
     ]
    }
   ],
   "source": [
    "verdict_fit = verdict_mod.fit(scheme, test_voxels, solver='mix', use_parallel_processing=False)\n",
    "verdict_fit_mask.fitted_parameters"
   ]
  },
  {
   "cell_type": "markdown",
   "metadata": {},
   "source": [
    "# Visualization\n",
    "\n",
    "Visualizing the fitted parameters "
   ]
  },
  {
   "cell_type": "code",
   "execution_count": null,
   "metadata": {
    "vscode": {
     "languageId": "shellscript"
    }
   },
   "outputs": [],
   "source": [
    "fitted_parameters = verdict_fit_mask.fitted_parameters\n",
    "\n",
    "fig, axs = plt.subplots(2, 4, figsize=[15, 10])\n",
    "axs = axs.ravel()\n",
    "\n",
    "counter=0\n",
    "\n",
    "xlim = (150,180)\n",
    "ylim = (100,135)\n",
    "plt.setp(axs, xlim=xlim, ylim=ylim)\n",
    "\n",
    "for name, values in fitted_parameters.items():\n",
    "\n",
    "    if values.squeeze().ndim == 4:\n",
    "        cf1=axs[counter].imshow(values.squeeze()[:,:,175,0].T,interpolation='nearest')\n",
    "        axs[counter].set_title(name+\" 1\")\n",
    "        fig.colorbar(cf1, ax=axs[counter], shrink=0.5)\n",
    "        counter += 1\n",
    "\n",
    "        cf2=axs[counter].imshow(values.squeeze()[:,:,175,1].T,interpolation='nearest')\n",
    "        axs[counter].set_title(name+\" 2\")\n",
    "        fig.colorbar(cf2, ax=axs[counter], shrink=0.5)\n",
    "\n",
    "        counter += 1\n",
    "    else:\n",
    "        cf = axs[counter].imshow(values.squeeze()[:,:,175].T,interpolation='nearest')\n",
    "        axs[counter].set_title(name)\n",
    "        fig.colorbar(cf, ax=axs[counter],shrink=0.5)\n",
    "        counter += 1\n",
    "\n",
    "cf = axs[counter].imshow(mask.squeeze()[:,:,175].T,interpolation='nearest')\n",
    "axs[counter].set_title('Tumor mask')\n",
    "\n",
    "\n",
    "fig.suptitle('Fitted parameters in slice z=175 for tumor',fontsize=30)\n"
   ]
  },
  {
   "cell_type": "code",
   "execution_count": 170,
   "metadata": {
    "vscode": {
     "languageId": "shellscript"
    }
   },
   "outputs": [
    {
     "data": {
      "image/png": "[encoded data removed]",
      "text/plain": [
       "<Figure size 432x288 with 2 Axes>"
      ]
     },
     "metadata": {
      "needs_background": "light"
     },
     "output_type": "display_data"
    }
   ],
   "source": [
    "slice = (175,115,175)\n",
    "sum=0\n",
    "tot_sum=0\n",
    "\n",
    "volumes = [fitted_parameters['partial_volume_0'],fitted_parameters['partial_volume_1'],fitted_parameters['partial_volume_2']]\n",
    "\n",
    "for volume in volumes:\n",
    "    sum+=volume[slice]\n",
    "\n",
    "tot = fitted_parameters['partial_volume_0']+fitted_parameters['partial_volume_1']+fitted_parameters['partial_volume_2']\n",
    "\n",
    "image = plt.imshow(tot[:,:,175].T,interpolation ='nearest')\n",
    "plt.colorbar(image)\n",
    "plt.xlim(150,180)\n",
    "plt.ylim(100,135)\n",
    "plt.title('Sum of partial volumes')\n",
    "plt.show()\n",
    "\n"
   ]
  },
  {
   "cell_type": "markdown",
   "metadata": {},
   "source": [
    "# Example\n",
    "To plot a slice"
   ]
  },
  {
   "cell_type": "code",
   "execution_count": 16,
   "metadata": {
    "vscode": {
     "languageId": "shellscript"
    }
   },
   "outputs": [
    {
     "data": {
      "image/png": "[encoded data removed]",
      "text/plain": [
       "<Figure size 432x288 with 4 Axes>"
      ]
     },
     "metadata": {
      "needs_background": "light"
     },
     "output_type": "display_data"
    }
   ],
   "source": [
    "import matplotlib.pyplot as plt\n",
    "import matplotlib.patches as patches\n",
    "%matplotlib inline\n",
    "\n",
    "fig, ax = plt.subplots(3)\n",
    "image = ax[0].imshow(data[:, :, 5, 5].T)\n",
    "fig.colorbar(image,ax=ax[0])\n",
    "rect = patches.Rectangle((70,80),10,10,linewidth=1,edgecolor='r',facecolor='none')\n",
    "ax[0].add_patch(rect)\n",
    "ax[0].set_axis_off()\n",
    "ax[0].set_title('Fitted area shown in GS55');\n",
    "\n",
    "E = ax[1].imshow(E[:, :, 0].T)\n",
    "fig.colorbar(image,ax=ax[1])\n",
    "ax[1].set_title('Simulated signal');\n",
    "\n",
    "voxels = ax[2].imshow(test_voxels[:, :, 0].T)\n",
    "fig.colorbar(image,ax=ax[2])\n",
    "ax[2].set_title('Actual signal');"
   ]
  },
  {
   "cell_type": "markdown",
   "metadata": {},
   "source": []
  }
 ],
 "metadata": {
  "kernelspec": {
   "display_name": "Python 3.9.12 ('base')",
   "language": "python",
   "name": "python3"
  },
  "language_info": {
   "codemirror_mode": {
    "name": "ipython",
    "version": 3
   },
   "file_extension": ".py",
   "mimetype": "text/x-python",
   "name": "python",
   "nbconvert_exporter": "python",
   "pygments_lexer": "ipython3",
   "version": "3.9.12"
  },
  "orig_nbformat": 4,
  "vscode": {
   "interpreter": {
    "hash": "d4a094260e570e59b280a31b8853f889e1bc2e556f9cb423fc207bebb7a02112"
   }
  }
 },
 "nbformat": 4,
 "nbformat_minor": 2
}
